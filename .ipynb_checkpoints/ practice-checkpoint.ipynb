{
 "cells": [
  {
   "cell_type": "markdown",
   "id": "b58a2844",
   "metadata": {},
   "source": [
    "# python basics"
   ]
  },
  {
   "cell_type": "code",
   "execution_count": 15,
   "id": "2867ee67",
   "metadata": {},
   "outputs": [
    {
     "data": {
      "text/plain": [
       "32"
      ]
     },
     "execution_count": 15,
     "metadata": {},
     "output_type": "execute_result"
    }
   ],
   "source": [
    "a=12\n",
    "b=2\n",
    "c=a+b\n",
    "d=a-b\n",
    "e=a*b\n",
    "f=a/b\n",
    "g=a%b\n",
    "c"
   ]
  },
  {
   "cell_type": "code",
   "execution_count": 16,
   "id": "01b47eb9",
   "metadata": {},
   "outputs": [
    {
     "data": {
      "text/plain": [
       "-8"
      ]
     },
     "execution_count": 16,
     "metadata": {},
     "output_type": "execute_result"
    }
   ],
   "source": [
    "d"
   ]
  },
  {
   "cell_type": "code",
   "execution_count": 17,
   "id": "3cfd008e",
   "metadata": {},
   "outputs": [
    {
     "data": {
      "text/plain": [
       "240"
      ]
     },
     "execution_count": 17,
     "metadata": {},
     "output_type": "execute_result"
    }
   ],
   "source": [
    "e"
   ]
  },
  {
   "cell_type": "code",
   "execution_count": 18,
   "id": "3889e36a",
   "metadata": {},
   "outputs": [
    {
     "data": {
      "text/plain": [
       "0.6"
      ]
     },
     "execution_count": 18,
     "metadata": {},
     "output_type": "execute_result"
    }
   ],
   "source": [
    "f"
   ]
  },
  {
   "cell_type": "code",
   "execution_count": 19,
   "id": "b0fd03e0",
   "metadata": {},
   "outputs": [
    {
     "data": {
      "text/plain": [
       "12"
      ]
     },
     "execution_count": 19,
     "metadata": {},
     "output_type": "execute_result"
    }
   ],
   "source": [
    "g"
   ]
  },
  {
   "cell_type": "code",
   "execution_count": 13,
   "id": "68bec399",
   "metadata": {},
   "outputs": [
    {
     "data": {
      "text/plain": [
       "3.0"
      ]
     },
     "execution_count": 13,
     "metadata": {},
     "output_type": "execute_result"
    }
   ],
   "source": [
    "# int, float, string, boolean, list,tuples,dictionary,set\n",
    "\n",
    "a = 3\n",
    "b = float(3)\n",
    "b"
   ]
  },
  {
   "cell_type": "markdown",
   "id": "d17083f4",
   "metadata": {},
   "source": [
    "# data type"
   ]
  },
  {
   "cell_type": "code",
   "execution_count": 14,
   "id": "bb4cc322",
   "metadata": {},
   "outputs": [
    {
     "name": "stdout",
     "output_type": "stream",
     "text": [
      "apple\n",
      "banana\n",
      "5\n",
      "10\n",
      "True\n"
     ]
    }
   ],
   "source": [
    "#list\n",
    "x = [\"apple\",\"banana\",5,10,True]\n",
    "for items in x:\n",
    "    print(items)"
   ]
  },
  {
   "cell_type": "code",
   "execution_count": 15,
   "id": "e2da1bf1",
   "metadata": {},
   "outputs": [
    {
     "name": "stdout",
     "output_type": "stream",
     "text": [
      "apple\n",
      "banana\n",
      "50\n",
      "25\n",
      "True\n"
     ]
    }
   ],
   "source": [
    "# tuple\n",
    "x = (\"apple\",\"banana\", 50,25, True)\n",
    "for a in x:\n",
    "    print(a)"
   ]
  },
  {
   "cell_type": "code",
   "execution_count": 2,
   "id": "ba79f044",
   "metadata": {},
   "outputs": [
    {
     "name": "stdout",
     "output_type": "stream",
     "text": [
      "apple\n",
      "banana\n"
     ]
    }
   ],
   "source": [
    "#dictionary set\n",
    "dic = {\"name\":\"Shivam\", \"age\":21}\n",
    "settt = {\"apple\",\"banana\"}\n",
    "for app in settt:\n",
    "    print(app)"
   ]
  },
  {
   "cell_type": "markdown",
   "id": "b8902f7f",
   "metadata": {},
   "source": [
    "# string"
   ]
  },
  {
   "cell_type": "code",
   "execution_count": 19,
   "id": "3448fdc0",
   "metadata": {},
   "outputs": [
    {
     "name": "stdout",
     "output_type": "stream",
     "text": [
      "b\n",
      "a\n",
      "n\n",
      "a\n",
      "n\n",
      "a\n"
     ]
    }
   ],
   "source": [
    "for x in \"banana\":\n",
    "    print(x)"
   ]
  },
  {
   "cell_type": "code",
   "execution_count": 20,
   "id": "a401b5d9",
   "metadata": {},
   "outputs": [
    {
     "name": "stdout",
     "output_type": "stream",
     "text": [
      "free\n"
     ]
    }
   ],
   "source": [
    "x = \"free text books free\"\n",
    "if \"free\" in x:\n",
    "    print(\"free\")"
   ]
  },
  {
   "cell_type": "code",
   "execution_count": 23,
   "id": "0514f09e",
   "metadata": {},
   "outputs": [
    {
     "name": "stdout",
     "output_type": "stream",
     "text": [
      " not free\n"
     ]
    }
   ],
   "source": [
    "x = \"free text books free\"\n",
    "if \"expensive\" not in x:\n",
    "    print(\" not free\")\n",
    "else:\n",
    "    print('free')"
   ]
  },
  {
   "cell_type": "markdown",
   "id": "7c6d8a43",
   "metadata": {},
   "source": [
    "# boolean"
   ]
  },
  {
   "cell_type": "code",
   "execution_count": 26,
   "id": "fd4377fd",
   "metadata": {},
   "outputs": [
    {
     "name": "stdout",
     "output_type": "stream",
     "text": [
      "False\n",
      "False\n",
      "True\n"
     ]
    }
   ],
   "source": [
    "print(10<9)\n",
    "print(10 == 9)\n",
    "print(9 ==9)"
   ]
  },
  {
   "cell_type": "markdown",
   "id": "7ed96ea5",
   "metadata": {},
   "source": [
    "List is ordered and changeable, allow duplicate.\n",
    "Tuple is ordered and uncheagable, allow duplicate.\n",
    "Set is unordered, no duplicate.\n",
    "dictionary is ordered and changeable, no duplicate"
   ]
  },
  {
   "cell_type": "code",
   "execution_count": 42,
   "id": "4ef23790",
   "metadata": {},
   "outputs": [
    {
     "data": {
      "text/plain": [
       "['Kiwi', 'rinki', 'shivam']"
      ]
     },
     "execution_count": 42,
     "metadata": {},
     "output_type": "execute_result"
    }
   ],
   "source": [
    "x = [\"shivam\",\"rinki\", \"shivam\"]\n",
    "x[0] = \"Kiwi\"\n",
    "x\n",
    " # can change as it is a list"
   ]
  },
  {
   "cell_type": "code",
   "execution_count": 43,
   "id": "9f439ba8",
   "metadata": {},
   "outputs": [
    {
     "ename": "TypeError",
     "evalue": "'tuple' object does not support item assignment",
     "output_type": "error",
     "traceback": [
      "\u001b[1;31m---------------------------------------------------------------------------\u001b[0m",
      "\u001b[1;31mTypeError\u001b[0m                                 Traceback (most recent call last)",
      "\u001b[1;32m<ipython-input-43-44c6051da136>\u001b[0m in \u001b[0;36m<module>\u001b[1;34m\u001b[0m\n\u001b[0;32m      1\u001b[0m \u001b[0mx\u001b[0m \u001b[1;33m=\u001b[0m \u001b[1;33m(\u001b[0m\u001b[1;34m\"shivam\"\u001b[0m\u001b[1;33m,\u001b[0m\u001b[1;34m\"rinki\"\u001b[0m\u001b[1;33m,\u001b[0m \u001b[1;34m\"shivam\"\u001b[0m\u001b[1;33m)\u001b[0m\u001b[1;33m\u001b[0m\u001b[1;33m\u001b[0m\u001b[0m\n\u001b[1;32m----> 2\u001b[1;33m \u001b[0mx\u001b[0m\u001b[1;33m[\u001b[0m\u001b[1;36m0\u001b[0m\u001b[1;33m]\u001b[0m \u001b[1;33m=\u001b[0m \u001b[1;34m\"Kiwi\"\u001b[0m\u001b[1;33m\u001b[0m\u001b[1;33m\u001b[0m\u001b[0m\n\u001b[0m\u001b[0;32m      3\u001b[0m \u001b[0mx\u001b[0m\u001b[1;33m\u001b[0m\u001b[1;33m\u001b[0m\u001b[0m\n\u001b[0;32m      4\u001b[0m \u001b[1;31m# will show error because it is uncheagable tuple\u001b[0m\u001b[1;33m\u001b[0m\u001b[1;33m\u001b[0m\u001b[1;33m\u001b[0m\u001b[0m\n",
      "\u001b[1;31mTypeError\u001b[0m: 'tuple' object does not support item assignment"
     ]
    }
   ],
   "source": [
    "x = (\"shivam\",\"rinki\", \"shivam\")\n",
    "x[0] = \"Kiwi\"\n",
    "x\n",
    "# will show error because it is uncheagable tuple"
   ]
  },
  {
   "cell_type": "code",
   "execution_count": 61,
   "id": "24f214aa",
   "metadata": {},
   "outputs": [
    {
     "ename": "TypeError",
     "evalue": "'set' object is not subscriptable",
     "output_type": "error",
     "traceback": [
      "\u001b[1;31m---------------------------------------------------------------------------\u001b[0m",
      "\u001b[1;31mTypeError\u001b[0m                                 Traceback (most recent call last)",
      "\u001b[1;32m<ipython-input-61-b87cb3d8fe13>\u001b[0m in \u001b[0;36m<module>\u001b[1;34m\u001b[0m\n\u001b[0;32m      1\u001b[0m \u001b[0mx\u001b[0m \u001b[1;33m=\u001b[0m \u001b[1;33m{\u001b[0m\u001b[1;34m\"apple\"\u001b[0m\u001b[1;33m,\u001b[0m\u001b[1;34m\"banana\"\u001b[0m\u001b[1;33m,\u001b[0m\u001b[1;34m\"apple\"\u001b[0m\u001b[1;33m,\u001b[0m\u001b[1;34m\"apple\"\u001b[0m\u001b[1;33m}\u001b[0m\u001b[1;33m\u001b[0m\u001b[1;33m\u001b[0m\u001b[0m\n\u001b[1;32m----> 2\u001b[1;33m \u001b[0mx\u001b[0m\u001b[1;33m[\u001b[0m\u001b[1;36m0\u001b[0m\u001b[1;33m]\u001b[0m\u001b[1;33m\u001b[0m\u001b[1;33m\u001b[0m\u001b[0m\n\u001b[0m\u001b[0;32m      3\u001b[0m \u001b[1;31m# set dont allow duplicated it will ignore it\u001b[0m\u001b[1;33m\u001b[0m\u001b[1;33m\u001b[0m\u001b[1;33m\u001b[0m\u001b[0m\n",
      "\u001b[1;31mTypeError\u001b[0m: 'set' object is not subscriptable"
     ]
    }
   ],
   "source": [
    "x = {\"apple\",\"banana\",\"apple\",\"apple\"}\n",
    "# set dont allow duplicated it will ignore it"
   ]
  },
  {
   "cell_type": "code",
   "execution_count": 71,
   "id": "b3ea3109",
   "metadata": {},
   "outputs": [],
   "source": [
    "x = {\n",
    "        'child1':{\n",
    "            \"name\":\"shivam\",\n",
    "            \"age\":10,\n",
    "            \"movie\":{\n",
    "                \"first\":\"Hello world\",\n",
    "                \"second\":\"Noworld\"\n",
    "            }\n",
    "        },\n",
    "        \"child2\":{\n",
    "            \"name\":\"rinki\",\n",
    "            \"age\":50,\n",
    "            \"movie\":{\n",
    "                \"first\":\"world\",\n",
    "                \"second\":\"No\"\n",
    "            }\n",
    "        },\n",
    "        \"child3\":{\n",
    "            \"name\":\"rinki\",\n",
    "            \"age\":50,\n",
    "            \"movie\":{\n",
    "                \"favrt\":{\n",
    "                    \"first\":\"world\",\n",
    "                    \"second\":\"No\"\n",
    "                },\n",
    "                \"medium\":{\n",
    "                    \"first\":\"world\",\n",
    "                    \"second\":{\n",
    "                        \"free\":\"free movies\"\n",
    "                    }\n",
    "                }\n",
    "            }\n",
    "        }\n",
    "    }\n",
    "x"
   ]
  },
  {
   "cell_type": "markdown",
   "id": "18cfc5b7",
   "metadata": {},
   "source": [
    "find the value of child2 movie first"
   ]
  },
  {
   "cell_type": "code",
   "execution_count": 6,
   "id": "f4315903",
   "metadata": {},
   "outputs": [
    {
     "ename": "NameError",
     "evalue": "name 'x' is not defined",
     "output_type": "error",
     "traceback": [
      "\u001b[1;31m---------------------------------------------------------------------------\u001b[0m",
      "\u001b[1;31mNameError\u001b[0m                                 Traceback (most recent call last)",
      "\u001b[1;32m<ipython-input-6-f46595a0692b>\u001b[0m in \u001b[0;36m<module>\u001b[1;34m\u001b[0m\n\u001b[1;32m----> 1\u001b[1;33m \u001b[0mx\u001b[0m\u001b[1;33m[\u001b[0m\u001b[1;34m\"child1\"\u001b[0m\u001b[1;33m]\u001b[0m\u001b[1;33m[\u001b[0m\u001b[1;34m\"movie\"\u001b[0m\u001b[1;33m]\u001b[0m\u001b[1;33m[\u001b[0m\u001b[1;34m'second'\u001b[0m\u001b[1;33m]\u001b[0m\u001b[1;33m\u001b[0m\u001b[1;33m\u001b[0m\u001b[0m\n\u001b[0m",
      "\u001b[1;31mNameError\u001b[0m: name 'x' is not defined"
     ]
    }
   ],
   "source": [
    "x[\"child1\"][\"movie\"]['second']"
   ]
  },
  {
   "cell_type": "code",
   "execution_count": 5,
   "id": "28af2a0a",
   "metadata": {},
   "outputs": [
    {
     "data": {
      "text/plain": [
       "200"
      ]
     },
     "execution_count": 5,
     "metadata": {},
     "output_type": "execute_result"
    }
   ],
   "source": [
    "add_three=100\n",
    "add_six=add_three+add_three\n",
    "add_six"
   ]
  },
  {
   "cell_type": "code",
   "execution_count": null,
   "id": "ef2c8e54",
   "metadata": {},
   "outputs": [],
   "source": []
  }
 ],
 "metadata": {
  "kernelspec": {
   "display_name": "Python 3",
   "language": "python",
   "name": "python3"
  },
  "language_info": {
   "codemirror_mode": {
    "name": "ipython",
    "version": 3
   },
   "file_extension": ".py",
   "mimetype": "text/x-python",
   "name": "python",
   "nbconvert_exporter": "python",
   "pygments_lexer": "ipython3",
   "version": "3.9.5"
  }
 },
 "nbformat": 4,
 "nbformat_minor": 5
}
