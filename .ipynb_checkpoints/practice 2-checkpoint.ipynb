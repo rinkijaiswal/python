{
 "cells": [
  {
   "cell_type": "markdown",
   "id": "79019ba9",
   "metadata": {},
   "source": [
    "#I am learning python"
   ]
  },
  {
   "cell_type": "code",
   "execution_count": 1,
   "id": "f021468c",
   "metadata": {},
   "outputs": [
    {
     "name": "stdout",
     "output_type": "stream",
     "text": [
      "60\n"
     ]
    }
   ],
   "source": [
    "add_three=10+20+30\n",
    "print(add_three)"
   ]
  },
  {
   "cell_type": "code",
   "execution_count": 8,
   "id": "86655aef",
   "metadata": {},
   "outputs": [
    {
     "name": "stdout",
     "output_type": "stream",
     "text": [
      "Good Morning Rinki\n"
     ]
    }
   ],
   "source": [
    "name = \" Rinki\"\n",
    "greeting = \"Good Morning\" + name\n",
    "print(greeting)"
   ]
  },
  {
   "cell_type": "code",
   "execution_count": 2,
   "id": "a88c0cb7",
   "metadata": {},
   "outputs": [
    {
     "name": "stdout",
     "output_type": "stream",
     "text": [
      "Good morning, Holi party is today!\n"
     ]
    }
   ],
   "source": [
    "greeting = \"Good morning\"\n",
    "greeting_today = greeting + \", Holi party is today!\"\n",
    "print(greeting_today)"
   ]
  },
  {
   "cell_type": "code",
   "execution_count": 5,
   "id": "0f5b8b8b",
   "metadata": {},
   "outputs": [
    {
     "ename": "SyntaxError",
     "evalue": "invalid syntax (<ipython-input-5-6f79df25ab01>, line 5)",
     "output_type": "error",
     "traceback": [
      "\u001b[1;36m  File \u001b[1;32m\"<ipython-input-5-6f79df25ab01>\"\u001b[1;36m, line \u001b[1;32m5\u001b[0m\n\u001b[1;33m    else :\u001b[0m\n\u001b[1;37m    ^\u001b[0m\n\u001b[1;31mSyntaxError\u001b[0m\u001b[1;31m:\u001b[0m invalid syntax\n"
     ]
    }
   ],
   "source": [
    "a =12\n",
    "b =20\n",
    "if a>b :\n",
    "    print(\"a is greater then b\")\n",
    "    else :\n",
    "        print(\"not\")"
   ]
  },
  {
   "cell_type": "code",
   "execution_count": null,
   "id": "306d0e2e",
   "metadata": {},
   "outputs": [],
   "source": []
  },
  {
   "cell_type": "code",
   "execution_count": null,
   "id": "fcdd5dc8",
   "metadata": {},
   "outputs": [],
   "source": []
  },
  {
   "cell_type": "code",
   "execution_count": null,
   "id": "de0c1c95",
   "metadata": {},
   "outputs": [],
   "source": []
  },
  {
   "cell_type": "code",
   "execution_count": null,
   "id": "13d406cb",
   "metadata": {},
   "outputs": [],
   "source": []
  },
  {
   "cell_type": "code",
   "execution_count": null,
   "id": "a89b7394",
   "metadata": {},
   "outputs": [],
   "source": []
  }
 ],
 "metadata": {
  "kernelspec": {
   "display_name": "Python 3",
   "language": "python",
   "name": "python3"
  },
  "language_info": {
   "codemirror_mode": {
    "name": "ipython",
    "version": 3
   },
   "file_extension": ".py",
   "mimetype": "text/x-python",
   "name": "python",
   "nbconvert_exporter": "python",
   "pygments_lexer": "ipython3",
   "version": "3.9.5"
  }
 },
 "nbformat": 4,
 "nbformat_minor": 5
}
